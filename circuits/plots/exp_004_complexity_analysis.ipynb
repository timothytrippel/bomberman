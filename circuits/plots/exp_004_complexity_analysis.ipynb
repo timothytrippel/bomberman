{
 "cells": [
  {
   "cell_type": "code",
   "execution_count": 9,
   "metadata": {},
   "outputs": [],
   "source": [
    "import datetime\n",
    "import json\n",
    "import sys\n",
    "import time\n",
    "import numpy as np\n",
    "import pandas as pd\n",
    "import seaborn as sns\n",
    "import matplotlib.pyplot as plt"
   ]
  },
  {
   "cell_type": "markdown",
   "metadata": {},
   "source": [
    "# Data Paths"
   ]
  },
  {
   "cell_type": "code",
   "execution_count": 24,
   "metadata": {},
   "outputs": [],
   "source": [
    "# AES\n",
    "aes_dir = '../aes/output'\n",
    "aes_log_file = aes_dir + '/aes.-1.ac.log'\n",
    "aes_dot_log_file = aes_dir + '/aes.dot.log'\n",
    "aes_vcd_log_file = aes_dir + '/aes.vcd.log'\n",
    "aes_fanin_json = aes_dir + '/aes.fanin.json'\n",
    "aes_reg2reg_json = aes_dir + '/aes.reg2reg.json'\n",
    "\n",
    "# UART\n",
    "uart_dir = '../uart/output'\n",
    "uart_log_file = uart_dir + '/uart.-1.ac.log'\n",
    "uart_dot_log_file = uart_dir + '/uart.dot.log'\n",
    "uart_vcd_log_file = uart_dir + '/uart.vcd.log'\n",
    "uart_fanin_json = uart_dir + '/uart.fanin.json'\n",
    "uart_reg2reg_json = uart_dir + '/uart.reg2reg.json'\n",
    "\n",
    "# OR1200\n",
    "or1200_dir = '../or1200/output'\n",
    "or1200_log_file = or1200_dir + '/or1200.-1.ac.log'\n",
    "or1200_dot_log_file = or1200_dir + '/or1200.dot.log'\n",
    "or1200_vcd_log_file = or1200_dir + '/or1200.vcd.log'\n",
    "or1200_fanin_json = or1200_dir + '/or1200.fanin.json'\n",
    "or1200_reg2reg_json = or1200_dir + '/or1200.reg2reg.json'\n",
    "\n",
    "# PICORV32\n",
    "picorv32_dir = '../picorv32/output'\n",
    "picorv32_log_file = picorv32_dir + '/testbench.-1.ac.log'\n",
    "picorv32_dot_log_file = picorv32_dir + '/testbench.dot.log'\n",
    "picorv32_vcd_log_file = picorv32_dir + '/testbench.vcd.log'\n",
    "picorv32_fanin_json = picorv32_dir + '/testbench.fanin.json'\n",
    "picorv32_reg2reg_json = picorv32_dir + '/testbench.reg2reg.json'"
   ]
  },
  {
   "cell_type": "markdown",
   "metadata": {},
   "source": [
    "# Load Overall Fan-in/Reg2Reg Data"
   ]
  },
  {
   "cell_type": "code",
   "execution_count": 3,
   "metadata": {},
   "outputs": [],
   "source": [
    "DESIGN_STR = 'Design'\n",
    "TYPE_STR = 'Type'\n",
    "FANIN_STR = 'Fan-in'\n",
    "REG2REG_STR = 'Reg2Reg Distance'\n",
    "\n",
    "fanin_data_dict = {\n",
    "    DESIGN_STR: [],\n",
    "    TYPE_STR: [],\n",
    "    FANIN_STR: []\n",
    "}\n",
    "\n",
    "reg2reg_data_dict = {\n",
    "    DESIGN_STR: [],\n",
    "    TYPE_STR: [],\n",
    "    REG2REG_STR: []\n",
    "}\n",
    "\n",
    "def load_stats(design, log_file):\n",
    "    avg_fanin = -1\n",
    "    max_fanin = -1\n",
    "    avg_reg2reg_path = -1\n",
    "    max_reg2reg_path = -1\n",
    "    \n",
    "    with open(log_file, \"r\") as f:\n",
    "        for line in f:\n",
    "            if \"Average Fan-in\" in line:\n",
    "                avg_fanin = float(line.split('=')[-1].lstrip().rstrip())\n",
    "            if \"Max Fan-in\" in line:\n",
    "                max_fanin = int(line.split('=')[-1].lstrip().rstrip())\n",
    "            if \"Average Reg2Reg\" in line:\n",
    "                avg_reg2reg_path = float(line.split('=')[-1].lstrip().rstrip())\n",
    "            if \"Max Reg2Reg\" in line:\n",
    "                max_reg2reg_path = int(line.split('=')[-1].lstrip().rstrip())\n",
    "    f.close()\n",
    "    \n",
    "    fanin_data_dict[DESIGN_STR].append(design)\n",
    "    fanin_data_dict[DESIGN_STR].append(design)\n",
    "    fanin_data_dict[TYPE_STR].append('Avg')\n",
    "    fanin_data_dict[TYPE_STR].append('Max')\n",
    "    fanin_data_dict[FANIN_STR].append(avg_fanin)\n",
    "    fanin_data_dict[FANIN_STR].append(max_fanin)\n",
    "    reg2reg_data_dict[DESIGN_STR].append(design)\n",
    "    reg2reg_data_dict[DESIGN_STR].append(design)\n",
    "    reg2reg_data_dict[TYPE_STR].append('Avg')\n",
    "    reg2reg_data_dict[TYPE_STR].append('Max')\n",
    "    reg2reg_data_dict[REG2REG_STR].append(avg_reg2reg_path)\n",
    "    reg2reg_data_dict[REG2REG_STR].append(max_reg2reg_path)\n",
    "\n",
    "load_stats('AES', aes_log_file)\n",
    "load_stats('UART', uart_log_file)\n",
    "load_stats('OR1200', or1200_log_file)\n",
    "load_stats('RISC-V', picorv32_log_file)\n",
    "\n",
    "fanin_df = pd.DataFrame(fanin_data_dict)\n",
    "reg2reg_df = pd.DataFrame(reg2reg_data_dict)"
   ]
  },
  {
   "cell_type": "markdown",
   "metadata": {},
   "source": [
    "# Load Local Fan-in/Reg2Reg Data"
   ]
  },
  {
   "cell_type": "code",
   "execution_count": 4,
   "metadata": {},
   "outputs": [],
   "source": [
    "local_fanin_dict = {\n",
    "    FANIN_STR: [],\n",
    "    DESIGN_STR: []\n",
    "}\n",
    "\n",
    "local_reg2reg_dict = {\n",
    "    REG2REG_STR: [],\n",
    "    DESIGN_STR: []\n",
    "}\n",
    "\n",
    "# AES\n",
    "with open(aes_fanin_json, \"r\") as jf:\n",
    "    aes_fanin_dict = json.load(jf)\n",
    "    local_fanin_dict[FANIN_STR].extend(aes_fanin_dict['Fan-in'])\n",
    "    local_fanin_dict[DESIGN_STR].extend(['AES'] * len(aes_fanin_dict['Fan-in']))\n",
    "jf.close()\n",
    "with open(aes_reg2reg_json, \"r\") as jf:\n",
    "    aes_reg2reg_dict = json.load(jf)\n",
    "    local_reg2reg_dict[REG2REG_STR].extend(aes_reg2reg_dict['Reg2Reg Path Length'])\n",
    "    local_reg2reg_dict[DESIGN_STR].extend(['AES'] * len(aes_reg2reg_dict['Reg2Reg Path Length']))\n",
    "jf.close()\n",
    "\n",
    "# UART\n",
    "with open(uart_fanin_json, \"r\") as jf:\n",
    "    uart_fanin_dict = json.load(jf)\n",
    "    local_fanin_dict[FANIN_STR].extend(uart_fanin_dict['Fan-in'])\n",
    "    local_fanin_dict[DESIGN_STR].extend(['UART'] * len(uart_fanin_dict['Fan-in']))\n",
    "jf.close()\n",
    "with open(uart_reg2reg_json, \"r\") as jf:\n",
    "    uart_reg2reg_dict = json.load(jf)\n",
    "    local_reg2reg_dict[REG2REG_STR].extend(uart_reg2reg_dict['Reg2Reg Path Length'])\n",
    "    local_reg2reg_dict[DESIGN_STR].extend(['UART'] * len(uart_reg2reg_dict['Reg2Reg Path Length']))\n",
    "jf.close()\n",
    "\n",
    "# OR1200\n",
    "with open(or1200_fanin_json, \"r\") as jf:\n",
    "    or1200_fanin_dict = json.load(jf)\n",
    "    local_fanin_dict[FANIN_STR].extend(or1200_fanin_dict['Fan-in'])\n",
    "    local_fanin_dict[DESIGN_STR].extend(['OR1200'] * len(or1200_fanin_dict['Fan-in']))\n",
    "jf.close()\n",
    "with open(or1200_reg2reg_json, \"r\") as jf:\n",
    "    or1200_reg2reg_dict = json.load(jf)\n",
    "    local_reg2reg_dict[REG2REG_STR].extend(or1200_reg2reg_dict['Reg2Reg Path Length'])\n",
    "    local_reg2reg_dict[DESIGN_STR].extend(['OR1200'] * len(or1200_reg2reg_dict['Reg2Reg Path Length']))\n",
    "jf.close()\n",
    "\n",
    "# RISC-V\n",
    "with open(picorv32_fanin_json, \"r\") as jf:\n",
    "    picorv32_fanin_dict = json.load(jf)\n",
    "    local_fanin_dict[FANIN_STR].extend(picorv32_fanin_dict['Fan-in'])\n",
    "    local_fanin_dict[DESIGN_STR].extend(['RISC-V'] * len(picorv32_fanin_dict['Fan-in']))\n",
    "jf.close()\n",
    "with open(picorv32_reg2reg_json, \"r\") as jf:\n",
    "    picorv32_reg2reg_dict = json.load(jf)\n",
    "    local_reg2reg_dict[REG2REG_STR].extend(picorv32_reg2reg_dict['Reg2Reg Path Length'])\n",
    "    local_reg2reg_dict[DESIGN_STR].extend(['RISC-V'] * len(picorv32_reg2reg_dict['Reg2Reg Path Length']))\n",
    "jf.close()\n",
    "\n",
    "local_fanin_df = pd.DataFrame(local_fanin_dict)\n",
    "local_reg2reg_df = pd.DataFrame(local_reg2reg_dict)"
   ]
  },
  {
   "cell_type": "markdown",
   "metadata": {},
   "source": [
    "# Load Run-time Data"
   ]
  },
  {
   "cell_type": "code",
   "execution_count": 25,
   "metadata": {},
   "outputs": [
    {
     "name": "stdout",
     "output_type": "stream",
     "text": [
      "   DFG Generation (s)  Design  Num. Regs  SSC Classification (s)  \\\n",
      "0               5.017     AES       2440                    0.20   \n",
      "1               0.412    UART        340                    3.90   \n",
      "2              14.290  OR1200        814                    1.28   \n",
      "3               0.340  RISC-V        317                    1.00   \n",
      "\n",
      "   SSC Enumeration (s)  Simulation (s)  Total (s)  \n",
      "0                 0.24           3.658      5.457  \n",
      "1                 0.60           3.972      4.912  \n",
      "2                 7.00          27.602     22.570  \n",
      "3                 8.85           5.637     10.190  \n"
     ]
    }
   ],
   "source": [
    "SIM_RUNTIME_STR = 'Simulation (s)'\n",
    "SSCCLASS_RUNTIME_STR = 'SSC Classification (s)'\n",
    "SSCENUM_RUNTIME_STR = 'SSC Enumeration (s)'\n",
    "DFGGEN_RUNTIME_STR = 'DFG Generation (s)'\n",
    "TOTAL_RUNTIME_STR = 'Total (s)'\n",
    "SIZE_STR = 'Num. Regs'\n",
    "\n",
    "runtime_data_dict = {\n",
    "    DESIGN_STR: [],\n",
    "    DFGGEN_RUNTIME_STR: [],\n",
    "    SIM_RUNTIME_STR: [],\n",
    "    SSCENUM_RUNTIME_STR: [],\n",
    "    SSCCLASS_RUNTIME_STR: [],\n",
    "    TOTAL_RUNTIME_STR: [],\n",
    "    SIZE_STR: []\n",
    "}\n",
    "\n",
    "def convert_time_str_2_seconds(t_str):\n",
    "    (seconds, frac_seconds) = t_str.split('.')\n",
    "    x = time.strptime(seconds.split('.')[0], '%H:%M:%S')\n",
    "    x = datetime.timedelta(hours=x.tm_hour,minutes=x.tm_min,seconds=x.tm_sec).total_seconds()\n",
    "    x += (float(frac_seconds) / 100.0)\n",
    "    return x\n",
    "\n",
    "def load_runtimes(design, log_file, dot_log_file, vcd_log_file):\n",
    "    runtime_data_dict[DESIGN_STR].append(design)\n",
    "    \n",
    "    # IVL Stats\n",
    "    with open(vcd_log_file, \"r\") as f:\n",
    "        for line in f:\n",
    "            if \"real\" in line:\n",
    "                (seconds, frac_seconds) = line.split()[-1].rstrip().split('.')\n",
    "                frac_seconds = float(frac_seconds.rstrip('s')) / 1000.0\n",
    "                t = time.strptime(seconds, '%Mm%S')\n",
    "                t = datetime.timedelta(hours=t.tm_hour,minutes=t.tm_min,seconds=t.tm_sec).total_seconds()\n",
    "                sim_runtime = t + frac_seconds\n",
    "                runtime_data_dict[SIM_RUNTIME_STR].append(sim_runtime)\n",
    "    f.close()\n",
    "    \n",
    "    # DFG Stats\n",
    "    with open(dot_log_file, \"r\") as f:\n",
    "        for line in f:\n",
    "            if \"real\" in line:\n",
    "                (seconds, frac_seconds) = line.split()[-1].rstrip().split('.')\n",
    "                frac_seconds = float(frac_seconds.rstrip('s')) / 1000.0\n",
    "                t = time.strptime(seconds, '%Mm%S')\n",
    "                t = datetime.timedelta(hours=t.tm_hour,minutes=t.tm_min,seconds=t.tm_sec).total_seconds()\n",
    "                dfg_runtime = t + frac_seconds\n",
    "                runtime_data_dict[DFGGEN_RUNTIME_STR].append(dfg_runtime)\n",
    "    f.close()\n",
    "    \n",
    "    # Python Script Stats\n",
    "    with open(log_file, \"r\") as f:\n",
    "        for line in f:\n",
    "            if \"Num. Total FFs/Inputs:\" in line:\n",
    "                num_regs = int(line.split()[-1].rstrip())\n",
    "                runtime_data_dict[SIZE_STR].append(num_regs)\n",
    "            if \"Identifying Coalesced Counter Candidates...\" in line:\n",
    "                for _ in range(5):\n",
    "                    line = f.next()\n",
    "                ct_enum = convert_time_str_2_seconds(line.split()[-1].rstrip())\n",
    "                for _ in range(7):\n",
    "                    line = f.next()\n",
    "                dt_enum = convert_time_str_2_seconds(line.split()[-1].rstrip())\n",
    "                total_enum = ct_enum + dt_enum\n",
    "                runtime_data_dict[SSCENUM_RUNTIME_STR].append(total_enum)\n",
    "            if \"Finding malicious coalesced signals...\" in line:\n",
    "                while \"Execution Time:\" not in line:\n",
    "                    line = f.next()\n",
    "                ct_class = convert_time_str_2_seconds(line.split()[-1].rstrip())\n",
    "                while \"Execution Time:\" not in line:\n",
    "                    line = f.next()\n",
    "                dt_class = convert_time_str_2_seconds(line.split()[-1].rstrip())\n",
    "                total_class = ct_class + dt_class\n",
    "                runtime_data_dict[SSCCLASS_RUNTIME_STR].append(total_class)\n",
    "            if \"Analysis complete.\" in line:\n",
    "                line = f.next()\n",
    "                line = f.next()\n",
    "                t = convert_time_str_2_seconds(line.split()[-1].rstrip())\n",
    "                runtime_data_dict[TOTAL_RUNTIME_STR].append(dfg_runtime + total_enum + total_class)\n",
    "                break\n",
    "    f.close()\n",
    "\n",
    "load_runtimes('AES', aes_log_file, aes_dot_log_file, aes_vcd_log_file)\n",
    "load_runtimes('UART', uart_log_file, uart_dot_log_file, uart_vcd_log_file)\n",
    "load_runtimes('OR1200', or1200_log_file, or1200_dot_log_file, or1200_vcd_log_file)\n",
    "load_runtimes('RISC-V', picorv32_log_file, picorv32_dot_log_file, picorv32_vcd_log_file)\n",
    "runtime_df = pd.DataFrame(runtime_data_dict)\n",
    "print runtime_df"
   ]
  },
  {
   "cell_type": "markdown",
   "metadata": {},
   "source": [
    "# Plot Settings"
   ]
  },
  {
   "cell_type": "code",
   "execution_count": 6,
   "metadata": {},
   "outputs": [],
   "source": [
    "# Set Color Scheme\n",
    "sns.set()\n",
    "\n",
    "# Remove Outliers\n",
    "local_fanin_df[FANIN_STR] = np.where(local_fanin_df[FANIN_STR] > 50, 50, local_fanin_df[FANIN_STR])\n",
    "\n",
    "# outliers = local_fanin_df[FANIN_STR] > 50\n",
    "# # print (local_fanin_df[FANIN_STR] == 42)\n",
    "# print local_fanin_df[outliers]\n",
    "# local_fanin_df[outliers][FANIN_STR] = np.nan\n",
    "# local_fanin_df[FANIN_STR].fillna(42, inplace=True)\n",
    "# print local_fanin_df[local_fanin_df[FANIN_STR] == 42]"
   ]
  },
  {
   "cell_type": "markdown",
   "metadata": {},
   "source": [
    "# Plot Fan-in & Reg2Reg Path"
   ]
  },
  {
   "cell_type": "code",
   "execution_count": 7,
   "metadata": {
    "scrolled": true
   },
   "outputs": [
    {
     "ename": "NameError",
     "evalue": "name 'RUNTIME_STR' is not defined",
     "output_type": "error",
     "traceback": [
      "\u001b[0;31m---------------------------------------------------------------------------\u001b[0m",
      "\u001b[0;31mNameError\u001b[0m                                 Traceback (most recent call last)",
      "\u001b[0;32m<ipython-input-7-b22a4a94a6ba>\u001b[0m in \u001b[0;36m<module>\u001b[0;34m()\u001b[0m\n\u001b[1;32m      4\u001b[0m \u001b[0msns\u001b[0m\u001b[0;34m.\u001b[0m\u001b[0mboxenplot\u001b[0m\u001b[0;34m(\u001b[0m\u001b[0mx\u001b[0m\u001b[0;34m=\u001b[0m\u001b[0mDESIGN_STR\u001b[0m\u001b[0;34m,\u001b[0m \u001b[0my\u001b[0m\u001b[0;34m=\u001b[0m\u001b[0mREG2REG_STR\u001b[0m\u001b[0;34m,\u001b[0m \u001b[0mdata\u001b[0m\u001b[0;34m=\u001b[0m\u001b[0mreg2reg_df\u001b[0m\u001b[0;34m,\u001b[0m \u001b[0mlinewidth\u001b[0m\u001b[0;34m=\u001b[0m\u001b[0;36m2.5\u001b[0m\u001b[0;34m,\u001b[0m \u001b[0max\u001b[0m\u001b[0;34m=\u001b[0m\u001b[0max2\u001b[0m\u001b[0;34m)\u001b[0m\u001b[0;34m\u001b[0m\u001b[0m\n\u001b[1;32m      5\u001b[0m \u001b[0max2\u001b[0m\u001b[0;34m.\u001b[0m\u001b[0mset_ylim\u001b[0m\u001b[0;34m(\u001b[0m\u001b[0;34m[\u001b[0m\u001b[0;36m0\u001b[0m\u001b[0;34m,\u001b[0m\u001b[0;36m8\u001b[0m\u001b[0;34m]\u001b[0m\u001b[0;34m)\u001b[0m\u001b[0;34m\u001b[0m\u001b[0m\n\u001b[0;32m----> 6\u001b[0;31m \u001b[0msns\u001b[0m\u001b[0;34m.\u001b[0m\u001b[0mbarplot\u001b[0m\u001b[0;34m(\u001b[0m\u001b[0mx\u001b[0m\u001b[0;34m=\u001b[0m\u001b[0mDESIGN_STR\u001b[0m\u001b[0;34m,\u001b[0m \u001b[0my\u001b[0m\u001b[0;34m=\u001b[0m\u001b[0mRUNTIME_STR\u001b[0m\u001b[0;34m,\u001b[0m \u001b[0mdata\u001b[0m\u001b[0;34m=\u001b[0m\u001b[0mruntime_df\u001b[0m\u001b[0;34m,\u001b[0m \u001b[0max\u001b[0m\u001b[0;34m=\u001b[0m\u001b[0max3\u001b[0m\u001b[0;34m)\u001b[0m\u001b[0;34m\u001b[0m\u001b[0m\n\u001b[0m",
      "\u001b[0;31mNameError\u001b[0m: name 'RUNTIME_STR' is not defined"
     ]
    },
    {
     "data": {
      "image/png": "[encoded data removed]",
      "text/plain": [
       "<matplotlib.figure.Figure at 0x110f7dc90>"
      ]
     },
     "metadata": {},
     "output_type": "display_data"
    }
   ],
   "source": [
    "fig, (ax1, ax2, ax3) = plt.subplots(1, 3, figsize=(16, 4))\n",
    "sns.boxenplot(x=DESIGN_STR, y=FANIN_STR, data=local_fanin_df, linewidth=2.5, ax=ax1)\n",
    "ax1.set_ylim([0,50])\n",
    "sns.boxenplot(x=DESIGN_STR, y=REG2REG_STR, data=reg2reg_df, linewidth=2.5, ax=ax2)\n",
    "ax2.set_ylim([0,8])\n",
    "sns.barplot(x=DESIGN_STR, y=RUNTIME_STR, data=runtime_df, ax=ax3)"
   ]
  },
  {
   "cell_type": "code",
   "execution_count": null,
   "metadata": {},
   "outputs": [],
   "source": []
  }
 ],
 "metadata": {
  "kernelspec": {
   "display_name": "Python 2",
   "language": "python",
   "name": "python2"
  },
  "language_info": {
   "codemirror_mode": {
    "name": "ipython",
    "version": 2
   },
   "file_extension": ".py",
   "mimetype": "text/x-python",
   "name": "python",
   "nbconvert_exporter": "python",
   "pygments_lexer": "ipython2",
   "version": "2.7.17"
  }
 },
 "nbformat": 4,
 "nbformat_minor": 4
}
